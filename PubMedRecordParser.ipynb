{
 "cells": [
  {
   "cell_type": "code",
   "execution_count": 24,
   "metadata": {},
   "outputs": [],
   "source": [
    "from Bio import Medline\n",
    "import pandas as pd"
   ]
  },
  {
   "cell_type": "code",
   "execution_count": 25,
   "metadata": {},
   "outputs": [],
   "source": [
    "data_records = []\n",
    "f = open('pubmed-molnupirav-set.txt', encoding = 'utf-8')\n",
    "pmids = Medline.parse(f)\n",
    "\n",
    "for pmid in pmids:\n",
    "    try:\n",
    "        pid = pmid['PMID']\n",
    "    except:\n",
    "        pid = ''\n",
    "    try:\n",
    "        title = pmid['TI']\n",
    "    except:\n",
    "        title = ''\n",
    "    try:\n",
    "        abstract =  pmid['AB']\n",
    "    except:\n",
    "        abstract = ''\n",
    "\n",
    "    dic = {\n",
    "            'PMID': pid,\n",
    "            'title': title,\n",
    "            'abstract': abstract\n",
    "          }\n",
    "\n",
    "    data_records.append(dic)\n",
    "\n",
    "f.close()"
   ]
  },
  {
   "cell_type": "code",
   "execution_count": 26,
   "metadata": {},
   "outputs": [
    {
     "data": {
      "text/html": [
       "<div>\n",
       "<style scoped>\n",
       "    .dataframe tbody tr th:only-of-type {\n",
       "        vertical-align: middle;\n",
       "    }\n",
       "\n",
       "    .dataframe tbody tr th {\n",
       "        vertical-align: top;\n",
       "    }\n",
       "\n",
       "    .dataframe thead th {\n",
       "        text-align: right;\n",
       "    }\n",
       "</style>\n",
       "<table border=\"1\" class=\"dataframe\">\n",
       "  <thead>\n",
       "    <tr style=\"text-align: right;\">\n",
       "      <th></th>\n",
       "      <th>PMID</th>\n",
       "      <th>Title</th>\n",
       "      <th>Abstract</th>\n",
       "    </tr>\n",
       "  </thead>\n",
       "  <tbody>\n",
       "    <tr>\n",
       "      <th>0</th>\n",
       "      <td>34968008</td>\n",
       "      <td>Molnupiravir: A new candidate for COVID-19 tre...</td>\n",
       "      <td>The novel coronavirus disease 2019 (COVID-19) ...</td>\n",
       "    </tr>\n",
       "    <tr>\n",
       "      <th>1</th>\n",
       "      <td>34914868</td>\n",
       "      <td>Molnupiravir for Oral Treatment of Covid-19 in...</td>\n",
       "      <td>BACKGROUND: New treatments are needed to reduc...</td>\n",
       "    </tr>\n",
       "    <tr>\n",
       "      <th>2</th>\n",
       "      <td>35118917</td>\n",
       "      <td>Efficacy and safety of three new oral antivira...</td>\n",
       "      <td>BACKGROUND: The coronavirus disease (COVID-19)...</td>\n",
       "    </tr>\n",
       "    <tr>\n",
       "      <th>3</th>\n",
       "      <td>34902743</td>\n",
       "      <td>RdRp inhibitors and COVID-19: Is molnupiravir ...</td>\n",
       "      <td>Rapid changes in the viral genome allow viruse...</td>\n",
       "    </tr>\n",
       "    <tr>\n",
       "      <th>4</th>\n",
       "      <td>35245942</td>\n",
       "      <td>Molnupiravir and Nirmatrelvir-Ritonavir: Oral ...</td>\n",
       "      <td>At a crucial time with rapid spread of Omicron...</td>\n",
       "    </tr>\n",
       "    <tr>\n",
       "      <th>...</th>\n",
       "      <td>...</td>\n",
       "      <td>...</td>\n",
       "      <td>...</td>\n",
       "    </tr>\n",
       "    <tr>\n",
       "      <th>99</th>\n",
       "      <td>35271914</td>\n",
       "      <td>Establishment of a stable SARS-CoV-2 replicon ...</td>\n",
       "      <td>Experiments with severe acute respiratory synd...</td>\n",
       "    </tr>\n",
       "    <tr>\n",
       "      <th>100</th>\n",
       "      <td>35352546</td>\n",
       "      <td>Management of SARS-CoV-2 infection: recommenda...</td>\n",
       "      <td>The first Polish recommendations regarding the...</td>\n",
       "    </tr>\n",
       "    <tr>\n",
       "      <th>101</th>\n",
       "      <td>35033572</td>\n",
       "      <td>Very low levels of remdesivir resistance in SA...</td>\n",
       "      <td>Massive usage of antiviral compounds during a ...</td>\n",
       "    </tr>\n",
       "    <tr>\n",
       "      <th>102</th>\n",
       "      <td>35222030</td>\n",
       "      <td>Effectiveness of Antiviral Therapy in Highly-T...</td>\n",
       "      <td>As of October 2021, neither established agents...</td>\n",
       "    </tr>\n",
       "    <tr>\n",
       "      <th>103</th>\n",
       "      <td>35315683</td>\n",
       "      <td>Therapeutic treatment with an oral prodrug of ...</td>\n",
       "      <td>The coronavirus disease 2019 (COVID-19) pandem...</td>\n",
       "    </tr>\n",
       "  </tbody>\n",
       "</table>\n",
       "<p>104 rows × 3 columns</p>\n",
       "</div>"
      ],
      "text/plain": [
       "         PMID                                              Title  \\\n",
       "0    34968008  Molnupiravir: A new candidate for COVID-19 tre...   \n",
       "1    34914868  Molnupiravir for Oral Treatment of Covid-19 in...   \n",
       "2    35118917  Efficacy and safety of three new oral antivira...   \n",
       "3    34902743  RdRp inhibitors and COVID-19: Is molnupiravir ...   \n",
       "4    35245942  Molnupiravir and Nirmatrelvir-Ritonavir: Oral ...   \n",
       "..        ...                                                ...   \n",
       "99   35271914  Establishment of a stable SARS-CoV-2 replicon ...   \n",
       "100  35352546  Management of SARS-CoV-2 infection: recommenda...   \n",
       "101  35033572  Very low levels of remdesivir resistance in SA...   \n",
       "102  35222030  Effectiveness of Antiviral Therapy in Highly-T...   \n",
       "103  35315683  Therapeutic treatment with an oral prodrug of ...   \n",
       "\n",
       "                                              Abstract  \n",
       "0    The novel coronavirus disease 2019 (COVID-19) ...  \n",
       "1    BACKGROUND: New treatments are needed to reduc...  \n",
       "2    BACKGROUND: The coronavirus disease (COVID-19)...  \n",
       "3    Rapid changes in the viral genome allow viruse...  \n",
       "4    At a crucial time with rapid spread of Omicron...  \n",
       "..                                                 ...  \n",
       "99   Experiments with severe acute respiratory synd...  \n",
       "100  The first Polish recommendations regarding the...  \n",
       "101  Massive usage of antiviral compounds during a ...  \n",
       "102  As of October 2021, neither established agents...  \n",
       "103  The coronavirus disease 2019 (COVID-19) pandem...  \n",
       "\n",
       "[104 rows x 3 columns]"
      ]
     },
     "execution_count": 26,
     "metadata": {},
     "output_type": "execute_result"
    }
   ],
   "source": [
    "df = pd.DataFrame(data_records)\n",
    "df = df.rename(columns={'title': 'Title', 'abstract': 'Abstract'})\n",
    "df"
   ]
  },
  {
   "cell_type": "code",
   "execution_count": 27,
   "metadata": {},
   "outputs": [
    {
     "name": "stdout",
     "output_type": "stream",
     "text": [
      "File saved as PubMedRecords.csv\n"
     ]
    }
   ],
   "source": [
    "output_file = 'PubMedRecords.csv'\n",
    "try:\n",
    "    df.to_csv(output_file, index=False)\n",
    "    print(f'File saved as {output_file}')\n",
    "except:\n",
    "    print(f'Failed to save {output_file}')"
   ]
  },
  {
   "cell_type": "code",
   "execution_count": null,
   "metadata": {},
   "outputs": [],
   "source": []
  }
 ],
 "metadata": {
  "interpreter": {
   "hash": "e694077ae1354cb495d03e9d178bbe3afb618f42953a5b548ed68c7803450d20"
  },
  "kernelspec": {
   "display_name": "Python 3.9.7 ('jupyter')",
   "language": "python",
   "name": "python3"
  },
  "language_info": {
   "codemirror_mode": {
    "name": "ipython",
    "version": 3
   },
   "file_extension": ".py",
   "mimetype": "text/x-python",
   "name": "python",
   "nbconvert_exporter": "python",
   "pygments_lexer": "ipython3",
   "version": "3.9.7"
  },
  "orig_nbformat": 4
 },
 "nbformat": 4,
 "nbformat_minor": 2
}
